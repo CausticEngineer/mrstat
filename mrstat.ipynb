{
 "cells": [
  {
   "cell_type": "markdown",
   "metadata": {},
   "source": [
    "# MR STAT \n",
    "by glebmikh"
   ]
  },
  {
   "cell_type": "markdown",
   "metadata": {},
   "source": [
    "На данный момент сообщество python не имеет полноценного пакета для статистического анализа:\n",
    "\n",
    "- реализации статистических тестов разбросаны по разным библиотекам;\n",
    "- некоторые из основных тестов не имеют стандартной реализации.\n",
    "\n",
    "Я решил, что будет удобно собрать в один скрипт все стандартные реализации и дополнить их недостающими методами. Сделав это, больше не придется вспоминать, где что лежит или копировать куски кода из предыдущих проектов."
   ]
  },
  {
   "cell_type": "markdown",
   "metadata": {},
   "source": [
    "### Содержание"
   ]
  },
  {
   "cell_type": "markdown",
   "metadata": {},
   "source": [
    "- [1. Одновыборочный ти-тест](#1.-Одновыборочный-ти-тест)\n",
    "\t- [1.1 Гипотеза о среднием](#1.1-Гипотеза-о-среднием)\n",
    "\t- [1.2 Доверительный интервал для среднего](#1.2-Доверительный-интервал-для-среднего)\n",
    "- [2. Тесты на распределение](#2.-Тесты-на-распределение)\n",
    "\t- [2.1 Критерий Шапиро-Уилка](#2.1-Критерий-Шапиро-Уилка)\n",
    "\t- [2.2 КуКу график](#2.2-КуКу-график)\n",
    "\t- [2.3 Тест Колмогорова-Смирнова для проверки формы распределения](#2.3-Тест-Колмогорова-Смирнова-для-проверки-формы-распределения)\n",
    "\t- [2.4 Двухвыборочный тест Колмогорова-Смирнова](#2.4-Двухвыборочный-тест-Колмогорова-Смирнова)\n",
    "- [3. Двухвыборочные ти-тесты](#3.-Двухвыборочные-ти-тесты)\n",
    "\t- [3.1 Ти-тест для двух независимых выборок](#3.1-Ти-тест-для-двух-независимых-выборок)\n",
    "\t- [3.2 Доверительный интервал разности средних для двух независимых выборок](#3.2-Доверительный-интервал-разности-средних-для-двух-независимых-выборок)\n",
    "- [4. Пропорция](#4.-Пропорция)\n",
    "\t- [4.1. Тест для одной доли](#4.1.-Тест-для-одной-доли)\n",
    "\t- [4.2 Доверительная интервал для одной доли](#4.2-Доверительная-интервал-для-одной-доли)\n",
    "\t- [4.3 Размер выборки для заданной доли и ширины интервала](#4.3-Размер-выборки-для-заданной-доли-и-ширины-интервала)\n",
    "- [5. Две доли и АБ тестинг](#5.-Две-доли-и-АБ-тестинг)\n",
    "\t- [5.1 Тест разности двух независимых долей](#5.1-Тест-разности-двух-независимых-долей)\n",
    "\t- [5.2 Доверительный интервал для разности двух незавимых долей](#5.2-Доверительный-интервал-для-разности-двух-незавимых-долей)\n",
    "\t- [5.3 Тест Хи-квадрат](#5.3-Тест-Хи-квадрат)\n",
    "\t- [5.4 Точный тест Фишера](#5.4-Точный-тест-Фишера)\n",
    "\t- [5.5 Размер выборок для для двух пропорций](#5.5-Размер-выборок-для-для-двух-пропорций)\n",
    "- [6. Непараметрические критерии](#6.-Непараметрические-критерии)\n",
    "\t- [6.1 Критерий знаков](#6.1-Критерий-знаков)\n",
    "\t- [6.2 Критерий знаковых рангов Вилкоксона](#6.2-Критерий-знаковых-рангов-Вилкоксона)\n",
    "\t- [6.3 Критерий Манна-Уитни](#6.3-Критерий-Манна-Уитни)\n",
    "\t- [6.4 Бутстреп](#6.4-Бутстреп)\n",
    "- [7. Корреляция](#7.-Корреляция)\n",
    "\t- [7.1 Коэффициет корреляции Пирсона](#7.1-Коэффициет-корреляции-Пирсона)\n",
    "\t- [7.2 Коэффициет корреляции Спирмена](#7.2-Коэффициет-корреляции-Спирмена)\n",
    "\t- [7.3 Коэффициент Крамера](#7.3-Коэффициент-Крамера)\n",
    "- [8. Связанные выборки](#8.-Связанные-выборки)\n",
    "\t- [8.1 Ти-тест для связанных выборок](#8.1-Ти-тест-для-связанных-выборок)\n",
    "\t- [8.2 Тест для разности двух долей - связанные выборки](#8.2-Тест-для-разности-двух-долей---связанные-выборки)\n",
    "\t- [8.3 Доверительный интервал для разности долей ](#8.3-Доверительный-интервал-для-разности-долей-)\n",
    "\t- [8.4 Непараметрические критерии для связанных выборок](#8.4-Непараметрические-критерии-для-связанных-выборок)\n",
    "- [9. Дисперсионный анализ](#9.-Дисперсионный-анализ)\n",
    "\t- [9.1 Однофакторная ANOVA](#9.1-Однофакторная-ANOVA)\n",
    "\t- [9.2 Критерий Краскела-Уоллиса](#9.2-Критерий-Краскела-Уоллиса)\n",
    "\t- [9.3 Двухфакторная ANOVA](#9.3-Двухфакторная-ANOVA)"
   ]
  },
  {
   "cell_type": "markdown",
   "metadata": {},
   "source": [
    "В данном руководстве я буду использовать дата-сет [hsb2](https://github.com/rpruim/OpenIntro/blob/master/data/hsb2.csv) и примеры из статьи [What statistical analysis should I use?](http://www.ats.ucla.edu/stat/stata/whatstat/whatstat.htm), которые дополню некоторыми другими полезными случаями. В данных hsb2 содержится 200 наблюдений об учениках старших классов: социодемографические данные и оценки полученные на тестах по разным предметам."
   ]
  },
  {
   "cell_type": "markdown",
   "metadata": {},
   "source": [
    "Если импорт выдаст ошибки - просто установите недостающие библиотеки."
   ]
  },
  {
   "cell_type": "code",
   "execution_count": 1,
   "metadata": {
    "collapsed": true
   },
   "outputs": [],
   "source": [
    "import mrstat\n",
    "import numpy as np\n",
    "from matplotlib import pyplot as plt\n",
    "from scipy import stats\n",
    "import pandas as pd\n",
    "%matplotlib inline\n",
    "hsb = pd.read_csv('hsb2.csv')"
   ]
  },
  {
   "cell_type": "code",
   "execution_count": 2,
   "metadata": {
    "collapsed": false
   },
   "outputs": [
    {
     "data": {
      "text/html": [
       "<div>\n",
       "<table border=\"1\" class=\"dataframe\">\n",
       "  <thead>\n",
       "    <tr style=\"text-align: right;\">\n",
       "      <th></th>\n",
       "      <th>id</th>\n",
       "      <th>female</th>\n",
       "      <th>race</th>\n",
       "      <th>ses</th>\n",
       "      <th>schtyp</th>\n",
       "      <th>prog</th>\n",
       "      <th>read</th>\n",
       "      <th>write</th>\n",
       "      <th>math</th>\n",
       "      <th>science</th>\n",
       "      <th>socst</th>\n",
       "    </tr>\n",
       "  </thead>\n",
       "  <tbody>\n",
       "    <tr>\n",
       "      <th>0</th>\n",
       "      <td>70</td>\n",
       "      <td>0</td>\n",
       "      <td>4</td>\n",
       "      <td>1</td>\n",
       "      <td>1</td>\n",
       "      <td>1</td>\n",
       "      <td>57</td>\n",
       "      <td>52</td>\n",
       "      <td>41</td>\n",
       "      <td>47</td>\n",
       "      <td>57</td>\n",
       "    </tr>\n",
       "    <tr>\n",
       "      <th>1</th>\n",
       "      <td>121</td>\n",
       "      <td>1</td>\n",
       "      <td>4</td>\n",
       "      <td>2</td>\n",
       "      <td>1</td>\n",
       "      <td>3</td>\n",
       "      <td>68</td>\n",
       "      <td>59</td>\n",
       "      <td>53</td>\n",
       "      <td>63</td>\n",
       "      <td>61</td>\n",
       "    </tr>\n",
       "    <tr>\n",
       "      <th>2</th>\n",
       "      <td>86</td>\n",
       "      <td>0</td>\n",
       "      <td>4</td>\n",
       "      <td>3</td>\n",
       "      <td>1</td>\n",
       "      <td>1</td>\n",
       "      <td>44</td>\n",
       "      <td>33</td>\n",
       "      <td>54</td>\n",
       "      <td>58</td>\n",
       "      <td>31</td>\n",
       "    </tr>\n",
       "    <tr>\n",
       "      <th>3</th>\n",
       "      <td>141</td>\n",
       "      <td>0</td>\n",
       "      <td>4</td>\n",
       "      <td>3</td>\n",
       "      <td>1</td>\n",
       "      <td>3</td>\n",
       "      <td>63</td>\n",
       "      <td>44</td>\n",
       "      <td>47</td>\n",
       "      <td>53</td>\n",
       "      <td>56</td>\n",
       "    </tr>\n",
       "    <tr>\n",
       "      <th>4</th>\n",
       "      <td>172</td>\n",
       "      <td>0</td>\n",
       "      <td>4</td>\n",
       "      <td>2</td>\n",
       "      <td>1</td>\n",
       "      <td>2</td>\n",
       "      <td>47</td>\n",
       "      <td>52</td>\n",
       "      <td>57</td>\n",
       "      <td>53</td>\n",
       "      <td>61</td>\n",
       "    </tr>\n",
       "  </tbody>\n",
       "</table>\n",
       "</div>"
      ],
      "text/plain": [
       "    id  female  race  ses  schtyp  prog  read  write  math  science  socst\n",
       "0   70       0     4    1       1     1    57     52    41       47     57\n",
       "1  121       1     4    2       1     3    68     59    53       63     61\n",
       "2   86       0     4    3       1     1    44     33    54       58     31\n",
       "3  141       0     4    3       1     3    63     44    47       53     56\n",
       "4  172       0     4    2       1     2    47     52    57       53     61"
      ]
     },
     "execution_count": 2,
     "metadata": {},
     "output_type": "execute_result"
    }
   ],
   "source": [
    "hsb.head()"
   ]
  },
  {
   "cell_type": "markdown",
   "metadata": {
    "collapsed": true
   },
   "source": [
    "### 1. Одновыборочный ти-тест"
   ]
  },
  {
   "cell_type": "markdown",
   "metadata": {},
   "source": [
    "#### 1.1 Гипотеза о среднием"
   ]
  },
  {
   "cell_type": "markdown",
   "metadata": {},
   "source": [
    "Проверим гипотезу, что средняя оценка на тесте по письму (write) равна 50 пунктам."
   ]
  },
  {
   "cell_type": "code",
   "execution_count": 3,
   "metadata": {
    "collapsed": false
   },
   "outputs": [
    {
     "data": {
      "text/plain": [
       "Ttest_1sampResult(statistic=4.140324966963024, pvalue=5.1209194607163552e-05)"
      ]
     },
     "execution_count": 3,
     "metadata": {},
     "output_type": "execute_result"
    }
   ],
   "source": [
    "mrstat.ttest_1samp(hsb['write'],50)"
   ]
  },
  {
   "cell_type": "markdown",
   "metadata": {},
   "source": [
    "P-value получилось меньше 0.05 - это значит, что гипотеза о среднем равным 50 не принимается."
   ]
  },
  {
   "cell_type": "markdown",
   "metadata": {},
   "source": [
    "#### 1.2 Доверительный интервал для среднего"
   ]
  },
  {
   "cell_type": "markdown",
   "metadata": {},
   "source": [
    "Чтобы получить представление о среднем для write построим 95% доверительный интервал."
   ]
  },
  {
   "cell_type": "code",
   "execution_count": 4,
   "metadata": {
    "collapsed": false
   },
   "outputs": [
    {
     "data": {
      "text/plain": [
       "(51.461359138353302, 54.088640861646695)"
      ]
     },
     "execution_count": 4,
     "metadata": {},
     "output_type": "execute_result"
    }
   ],
   "source": [
    "mrstat.zconfint(hsb['write'])"
   ]
  },
  {
   "cell_type": "markdown",
   "metadata": {},
   "source": [
    "Данный интервал с 95% вероятностью содержит истинное среднее для оценки write. Так же доверительный интервал можно записать в следующем виде:"
   ]
  },
  {
   "cell_type": "code",
   "execution_count": 5,
   "metadata": {
    "collapsed": false
   },
   "outputs": [
    {
     "name": "stdout",
     "output_type": "stream",
     "text": [
      "52.775 +/- 1.31364086165\n"
     ]
    }
   ],
   "source": [
    "lb, hb = mrstat.zconfint(hsb['write'])\n",
    "print hsb.write.mean(), '+/-', (hb-lb)/2."
   ]
  },
  {
   "cell_type": "markdown",
   "metadata": {},
   "source": [
    "### 2. Тесты на распределение"
   ]
  },
  {
   "cell_type": "markdown",
   "metadata": {},
   "source": [
    "#### 2.1 Критерий Шапиро-Уилка"
   ]
  },
  {
   "cell_type": "markdown",
   "metadata": {},
   "source": [
    "Проверяем гипотезу о том, что случайная величина распределена нормально."
   ]
  },
  {
   "cell_type": "code",
   "execution_count": 6,
   "metadata": {
    "collapsed": false
   },
   "outputs": [
    {
     "data": {
      "text/plain": [
       "(0.9470317363739014, 9.865516403806396e-07)"
      ]
     },
     "execution_count": 6,
     "metadata": {},
     "output_type": "execute_result"
    }
   ],
   "source": [
    "mrstat.shapiro(hsb['write'])"
   ]
  },
  {
   "cell_type": "markdown",
   "metadata": {},
   "source": [
    "P-value < 0.05 следовательно гипотеза о нормальности распределения оценок по write отвергается. Не лишним так же всегда взглянуть на гистограмму."
   ]
  },
  {
   "cell_type": "code",
   "execution_count": 7,
   "metadata": {
    "collapsed": false
   },
   "outputs": [
    {
     "data": {
      "text/plain": [
       "<matplotlib.axes._subplots.AxesSubplot at 0xbfe59b0>"
      ]
     },
     "execution_count": 7,
     "metadata": {},
     "output_type": "execute_result"
    },
    {
     "data": {
      "image/png": "[encoded data removed]",
      "text/plain": [
       "<matplotlib.figure.Figure at 0xbfe5940>"
      ]
     },
     "metadata": {},
     "output_type": "display_data"
    }
   ],
   "source": [
    "hsb['write'].hist()"
   ]
  },
  {
   "cell_type": "markdown",
   "metadata": {},
   "source": [
    "Распределения действительно не симметричное и не очень похоже на нормальное. Попробуем найти нормальное распределение среди оценок."
   ]
  },
  {
   "cell_type": "code",
   "execution_count": 8,
   "metadata": {
    "collapsed": false
   },
   "outputs": [
    {
     "name": "stdout",
     "output_type": "stream",
     "text": [
      "read (0.9797889590263367, 0.005552584305405617)\n",
      "write (0.9470317363739014, 9.865516403806396e-07)\n",
      "math (0.976807177066803, 0.002145080827176571)\n",
      "science (0.9852479696273804, 0.03476548567414284)\n",
      "socst (0.9606784582138062, 2.343731830478646e-05)\n"
     ]
    }
   ],
   "source": [
    "for col in hsb.columns[-5:]:\n",
    "    print col, mrstat.shapiro(hsb[col])"
   ]
  },
  {
   "cell_type": "markdown",
   "metadata": {},
   "source": [
    "Самый большой p-value получился у science. Посмотрим на гистограмму."
   ]
  },
  {
   "cell_type": "code",
   "execution_count": 9,
   "metadata": {
    "collapsed": false
   },
   "outputs": [
    {
     "data": {
      "text/plain": [
       "<matplotlib.axes._subplots.AxesSubplot at 0xc1a3b00>"
      ]
     },
     "execution_count": 9,
     "metadata": {},
     "output_type": "execute_result"
    },
    {
     "data": {
      "image/png": "[encoded data removed]",
      "text/plain": [
       "<matplotlib.figure.Figure at 0xc0eb6a0>"
      ]
     },
     "metadata": {},
     "output_type": "display_data"
    }
   ],
   "source": [
    "hsb.science.hist()"
   ]
  },
  {
   "cell_type": "markdown",
   "metadata": {},
   "source": [
    "Распределение действительно более симметричное и напоминает нормальное."
   ]
  },
  {
   "cell_type": "markdown",
   "metadata": {},
   "source": [
    "#### 2.2 КуКу график"
   ]
  },
  {
   "cell_type": "markdown",
   "metadata": {},
   "source": [
    "Это визуальный спобоб проверить распределение на нормальность. Посмотрим на write."
   ]
  },
  {
   "cell_type": "code",
   "execution_count": 10,
   "metadata": {
    "collapsed": false
   },
   "outputs": [
    {
     "data": {
      "image/png": "[encoded data removed]",
      "text/plain": [
       "<matplotlib.figure.Figure at 0xc58b7f0>"
      ]
     },
     "metadata": {},
     "output_type": "display_data"
    }
   ],
   "source": [
    "_,_ = mrstat.qq_plot(hsb.write,dist='norm',plot=plt)"
   ]
  },
  {
   "cell_type": "markdown",
   "metadata": {},
   "source": [
    "На этом графике сравниваются теотические квантили распределения (красная прямая) и квантили полученные из фактического распределения переменной (синии точки). Если точки лежат вдоль прямой - то распределение можно считать нормальным. В данном случае точки с прямой не совпадают, в основном из-за тяжелого правого хвоста. Взглянем на куку график для science."
   ]
  },
  {
   "cell_type": "code",
   "execution_count": 11,
   "metadata": {
    "collapsed": false
   },
   "outputs": [
    {
     "data": {
      "image/png": "[encoded data removed]",
      "text/plain": [
       "<matplotlib.figure.Figure at 0x3fccfd0>"
      ]
     },
     "metadata": {},
     "output_type": "display_data"
    }
   ],
   "source": [
    "_,_ = mrstat.qq_plot(hsb.science,dist='norm',plot=plt)"
   ]
  },
  {
   "cell_type": "markdown",
   "metadata": {},
   "source": [
    "Видно, что синие точки на этом графике гораздо сильнее привязаны к красной линии. Это говорит о том, что science распределен более нормально. КуКу график можно строить не только для нормального распределения, но и для любого другого."
   ]
  },
  {
   "cell_type": "markdown",
   "metadata": {},
   "source": [
    "#### 2.3 Тест Колмогорова-Смирнова для проверки формы распределения"
   ]
  },
  {
   "cell_type": "markdown",
   "metadata": {},
   "source": [
    "Нормальность (и не только) можно проверить так же и при помощи этого теста."
   ]
  },
  {
   "cell_type": "code",
   "execution_count": 12,
   "metadata": {
    "collapsed": false
   },
   "outputs": [
    {
     "data": {
      "text/plain": [
       "KstestResult(statistic=0.1343270786922024, pvalue=0.0013129370215807512)"
      ]
     },
     "execution_count": 12,
     "metadata": {},
     "output_type": "execute_result"
    }
   ],
   "source": [
    "mrstat.kstest(hsb['write'],'norm',args=(hsb['write'].mean(),\n",
    "                                        hsb['write'].std(ddof=1)))"
   ]
  },
  {
   "cell_type": "markdown",
   "metadata": {},
   "source": [
    "P-value < 0.05 следовательно гипотеза о нормальности не принимается. Как вы поняли, в args передаются параметры нормального распределения, с которым мы хотим сравнить распределение выборки. Я предал туда выборочное среднее и стандартное отклонения. Проверим science."
   ]
  },
  {
   "cell_type": "code",
   "execution_count": 13,
   "metadata": {
    "collapsed": false
   },
   "outputs": [
    {
     "data": {
      "text/plain": [
       "KstestResult(statistic=0.076233630374236583, pvalue=0.18585568226600646)"
      ]
     },
     "execution_count": 13,
     "metadata": {},
     "output_type": "execute_result"
    }
   ],
   "source": [
    "mrstat.kstest(hsb['science'],'norm',args=(hsb['science'].mean(),\n",
    "                                          hsb['science'].std(ddof=1)))"
   ]
  },
  {
   "cell_type": "markdown",
   "metadata": {},
   "source": [
    "P-value получился больше 0.05 следовательно можно заключить, что данная выборка принадлежит к нормальному распределению. С помощью этого теста можно сравнивать выборки не только с нормальным распределением, но и с другими."
   ]
  },
  {
   "cell_type": "markdown",
   "metadata": {},
   "source": [
    "#### 2.4 Двухвыборочный тест Колмогорова-Смирнова"
   ]
  },
  {
   "cell_type": "markdown",
   "metadata": {},
   "source": [
    "С помощью этого теста можно проверить принадлежат ли две выборки к одному распределению."
   ]
  },
  {
   "cell_type": "code",
   "execution_count": 14,
   "metadata": {
    "collapsed": false
   },
   "outputs": [
    {
     "data": {
      "text/plain": [
       "Ks_2sampResult(statistic=0.15000000000000002, pvalue=0.01973175474986974)"
      ]
     },
     "execution_count": 14,
     "metadata": {},
     "output_type": "execute_result"
    }
   ],
   "source": [
    "mrstat.ks_2samp(hsb['write'],hsb['science'])"
   ]
  },
  {
   "cell_type": "markdown",
   "metadata": {},
   "source": [
    "Если p-value больше 0.05 - можно заключить, что выборки принадлежат к одному распределению. Write и science принадлежат к разным. А вот write и socst к одному."
   ]
  },
  {
   "cell_type": "code",
   "execution_count": 15,
   "metadata": {
    "collapsed": false
   },
   "outputs": [
    {
     "data": {
      "text/plain": [
       "Ks_2sampResult(statistic=0.125, pvalue=0.080917080808807579)"
      ]
     },
     "execution_count": 15,
     "metadata": {},
     "output_type": "execute_result"
    }
   ],
   "source": [
    "mrstat.ks_2samp(hsb['write'],hsb['socst'])"
   ]
  },
  {
   "cell_type": "markdown",
   "metadata": {
    "collapsed": true
   },
   "source": [
    "### 3. Двухвыборочные ти-тесты"
   ]
  },
  {
   "cell_type": "markdown",
   "metadata": {},
   "source": [
    "#### 3.1 Ти-тест для двух независимых выборок"
   ]
  },
  {
   "cell_type": "markdown",
   "metadata": {},
   "source": [
    "Данный тест позволяет понять если значимые различия между средними двух независимых выборок. Сравним оценки по тесту science для мальчиков и девочек."
   ]
  },
  {
   "cell_type": "code",
   "execution_count": 16,
   "metadata": {
    "collapsed": false
   },
   "outputs": [
    {
     "name": "stdout",
     "output_type": "stream",
     "text": [
      "53.2307692308 50.6972477064\n"
     ]
    }
   ],
   "source": [
    "s_boys = hsb[hsb['female'] == 0]['science']\n",
    "s_girls = hsb[hsb['female'] == 1]['science']\n",
    "print s_boys.mean(), s_girls.mean()"
   ]
  },
  {
   "cell_type": "markdown",
   "metadata": {},
   "source": [
    "Средняя оценка по научным дисциплинам у мальчиков выше. Проверим, имеет ли это утверждение статистическую значимость."
   ]
  },
  {
   "cell_type": "code",
   "execution_count": 17,
   "metadata": {
    "collapsed": false
   },
   "outputs": [
    {
     "data": {
      "text/plain": [
       "Ttest_indResult(statistic=1.7847013349359799, pvalue=0.076026848666140553)"
      ]
     },
     "execution_count": 17,
     "metadata": {},
     "output_type": "execute_result"
    }
   ],
   "source": [
    "mrstat.ttest_ind(s_boys,s_girls,equal_var=False)"
   ]
  },
  {
   "cell_type": "markdown",
   "metadata": {},
   "source": [
    "P-value >= 0.05, а значит нельзя утверждать, что средние различны. Теперь проведем такой же тест для write."
   ]
  },
  {
   "cell_type": "code",
   "execution_count": 18,
   "metadata": {
    "collapsed": false
   },
   "outputs": [
    {
     "name": "stdout",
     "output_type": "stream",
     "text": [
      "50.1208791209 54.9908256881\n"
     ]
    }
   ],
   "source": [
    "w_boys = hsb[hsb['female'] == 0]['write']\n",
    "w_girls = hsb[hsb['female'] == 1]['write']\n",
    "print w_boys.mean(), w_girls.mean()"
   ]
  },
  {
   "cell_type": "code",
   "execution_count": 19,
   "metadata": {
    "collapsed": false
   },
   "outputs": [
    {
     "data": {
      "text/plain": [
       "Ttest_indResult(statistic=-3.6564080478875276, pvalue=0.00034088493594266187)"
      ]
     },
     "execution_count": 19,
     "metadata": {},
     "output_type": "execute_result"
    }
   ],
   "source": [
    "mrstat.ttest_ind(w_boys,w_girls,equal_var=False)"
   ]
  },
  {
   "cell_type": "markdown",
   "metadata": {},
   "source": [
    "Получилось, что средние оценки по тесту write у мальчиков и девочек статистически значимо разные."
   ]
  },
  {
   "cell_type": "markdown",
   "metadata": {},
   "source": [
    "#### 3.2 Доверительный интервал разности средних для двух независимых выборок"
   ]
  },
  {
   "cell_type": "markdown",
   "metadata": {},
   "source": [
    "Построим 95% доверительный интервал для разности средних оценок science."
   ]
  },
  {
   "cell_type": "code",
   "execution_count": 20,
   "metadata": {
    "collapsed": false
   },
   "outputs": [
    {
     "data": {
      "text/plain": [
       "(-0.22316404940007306, 5.2902070980945028)"
      ]
     },
     "execution_count": 20,
     "metadata": {},
     "output_type": "execute_result"
    }
   ],
   "source": [
    "mrstat.mean_diff_confint_ind(s_boys,s_girls)"
   ]
  },
  {
   "cell_type": "markdown",
   "metadata": {},
   "source": [
    "Истинное значение разницы для двух средних с 95% вероятностью лежит в этом интервале. Данный интервая содержит 0 - это значит, что разницу двух средних нельзя считать отличной от нуля. Построим такой же интервал для оценок по write."
   ]
  },
  {
   "cell_type": "code",
   "execution_count": 21,
   "metadata": {
    "collapsed": false
   },
   "outputs": [
    {
     "data": {
      "text/plain": [
       "(2.2980585638240707, 7.4418345705644668)"
      ]
     },
     "execution_count": 21,
     "metadata": {},
     "output_type": "execute_result"
    }
   ],
   "source": [
    "mrstat.mean_diff_confint_ind(w_girls,w_boys)"
   ]
  },
  {
   "cell_type": "markdown",
   "metadata": {},
   "source": [
    "Данный интервал не содержит ноль - значит разницу можно признать отличной от нуля."
   ]
  },
  {
   "cell_type": "markdown",
   "metadata": {},
   "source": [
    "### 4. Пропорция"
   ]
  },
  {
   "cell_type": "markdown",
   "metadata": {},
   "source": [
    "#### 4.1. Тест для одной доли"
   ]
  },
  {
   "cell_type": "markdown",
   "metadata": {},
   "source": [
    "Рассчитаем долю девочек в выборке."
   ]
  },
  {
   "cell_type": "code",
   "execution_count": 22,
   "metadata": {
    "collapsed": false
   },
   "outputs": [
    {
     "data": {
      "text/plain": [
       "0.545"
      ]
     },
     "execution_count": 22,
     "metadata": {},
     "output_type": "execute_result"
    }
   ],
   "source": [
    "hsb.female.mean()"
   ]
  },
  {
   "cell_type": "markdown",
   "metadata": {},
   "source": [
    "Сравним долю девочек в выборке с гипотетической долей 0.5"
   ]
  },
  {
   "cell_type": "code",
   "execution_count": 23,
   "metadata": {
    "collapsed": false
   },
   "outputs": [
    {
     "data": {
      "text/plain": [
       "0.20125699204448533"
      ]
     },
     "execution_count": 23,
     "metadata": {},
     "output_type": "execute_result"
    }
   ],
   "source": [
    "mrstat.prop_test(hsb.female,0.5)"
   ]
  },
  {
   "cell_type": "markdown",
   "metadata": {},
   "source": [
    "P-value получился > 0.05 значит мы не можем утверждать, что истинная доля девочек отлична от 0.5"
   ]
  },
  {
   "cell_type": "markdown",
   "metadata": {},
   "source": [
    "#### 4.2 Доверительная интервал для одной доли"
   ]
  },
  {
   "cell_type": "code",
   "execution_count": 24,
   "metadata": {
    "collapsed": false
   },
   "outputs": [
    {
     "data": {
      "text/plain": [
       "(0.47598602492749653, 0.61401397507250355)"
      ]
     },
     "execution_count": 24,
     "metadata": {},
     "output_type": "execute_result"
    }
   ],
   "source": [
    "mrstat.prop_confint(hsb.female)"
   ]
  },
  {
   "cell_type": "markdown",
   "metadata": {},
   "source": [
    "Истинная доля девочек с 95% вероятностью лежит в этом интервале. Интервал содержит 0.5 - значит нет оснований утверждать, что истинная доля отлична от 0.5. Запишем так же в стиле плюс-минус:"
   ]
  },
  {
   "cell_type": "code",
   "execution_count": 25,
   "metadata": {
    "collapsed": false
   },
   "outputs": [
    {
     "name": "stdout",
     "output_type": "stream",
     "text": [
      "0.545 +/- 0.0690139750725\n"
     ]
    }
   ],
   "source": [
    "lb, hb = mrstat.prop_confint(hsb['female'])\n",
    "print hsb.female.mean(), '+/-', (hb-lb)/2."
   ]
  },
  {
   "cell_type": "markdown",
   "metadata": {},
   "source": [
    "#### 4.3 Размер выборки для заданной доли и ширины интервала"
   ]
  },
  {
   "cell_type": "markdown",
   "metadata": {},
   "source": [
    "С попощью данной процедуры можно определить какой размер выборки потребуется для того, чтобы получить доверительный интервал заданной ширины. Например нужно понять, сколько наблюдений потребуется, чтобы утверждать, что истинное среднее (доля) равно 0.5 плюс-минус 0.05. Для этого:"
   ]
  },
  {
   "cell_type": "code",
   "execution_count": 26,
   "metadata": {
    "collapsed": false
   },
   "outputs": [
    {
     "data": {
      "text/plain": [
       "384.14588206941266"
      ]
     },
     "execution_count": 26,
     "metadata": {},
     "output_type": "execute_result"
    }
   ],
   "source": [
    "mrstat.samplesize_confint_proportion(0.5,0.05)"
   ]
  },
  {
   "cell_type": "markdown",
   "metadata": {},
   "source": [
    "Потребуется выборка размером 384."
   ]
  },
  {
   "cell_type": "markdown",
   "metadata": {},
   "source": [
    "### 5. Две доли и АБ тестинг"
   ]
  },
  {
   "cell_type": "markdown",
   "metadata": {},
   "source": [
    "#### 5.1 Тест разности двух независимых долей"
   ]
  },
  {
   "cell_type": "markdown",
   "metadata": {},
   "source": [
    "Проверим различается ли доля тех, кто ходит в частную школу среди мальчиков и девочек. Для начала построим таблицу сопряженности."
   ]
  },
  {
   "cell_type": "code",
   "execution_count": 27,
   "metadata": {
    "collapsed": false
   },
   "outputs": [
    {
     "data": {
      "text/html": [
       "<div>\n",
       "<table border=\"1\" class=\"dataframe\">\n",
       "  <thead>\n",
       "    <tr style=\"text-align: right;\">\n",
       "      <th>female</th>\n",
       "      <th>0</th>\n",
       "      <th>1</th>\n",
       "    </tr>\n",
       "    <tr>\n",
       "      <th>schtyp</th>\n",
       "      <th></th>\n",
       "      <th></th>\n",
       "    </tr>\n",
       "  </thead>\n",
       "  <tbody>\n",
       "    <tr>\n",
       "      <th>1</th>\n",
       "      <td>77</td>\n",
       "      <td>91</td>\n",
       "    </tr>\n",
       "    <tr>\n",
       "      <th>2</th>\n",
       "      <td>14</td>\n",
       "      <td>18</td>\n",
       "    </tr>\n",
       "  </tbody>\n",
       "</table>\n",
       "</div>"
      ],
      "text/plain": [
       "female   0   1\n",
       "schtyp        \n",
       "1       77  91\n",
       "2       14  18"
      ]
     },
     "execution_count": 27,
     "metadata": {},
     "output_type": "execute_result"
    }
   ],
   "source": [
    "table = hsb.pivot_table(values=u'id',index=u'schtyp',columns=u'female',aggfunc='count')\n",
    "table"
   ]
  },
  {
   "cell_type": "markdown",
   "metadata": {},
   "source": [
    "Теперь рассчитаем долю учащихся в частных школах для мальчиков и девочек, а так же размер выборок."
   ]
  },
  {
   "cell_type": "code",
   "execution_count": 28,
   "metadata": {
    "collapsed": false
   },
   "outputs": [
    {
     "data": {
      "text/plain": [
       "(0.15384615384615385, 91, 0.16513761467889909, 109)"
      ]
     },
     "execution_count": 28,
     "metadata": {},
     "output_type": "execute_result"
    }
   ],
   "source": [
    "mrstat.get_props_and_lens(table)"
   ]
  },
  {
   "cell_type": "markdown",
   "metadata": {},
   "source": [
    "Доля учащихся частных школ среди мальчиков равна 0.15, а для девочек 0.17. Проверим значима ли эта разница."
   ]
  },
  {
   "cell_type": "code",
   "execution_count": 29,
   "metadata": {
    "collapsed": false
   },
   "outputs": [
    {
     "data": {
      "text/plain": [
       "0.82828242684033948"
      ]
     },
     "execution_count": 29,
     "metadata": {},
     "output_type": "execute_result"
    }
   ],
   "source": [
    "mrstat.proportions_diff_ind(*mrstat.get_props_and_lens(table))"
   ]
  },
  {
   "cell_type": "markdown",
   "metadata": {},
   "source": [
    "P-value получился гораздо больше 0.05 - следовательно нельзя отвергнуть гипотезу о том, что доли равны. Делаем вывод, что доля тех, кто учится в частных школах не зависит от пола."
   ]
  },
  {
   "cell_type": "markdown",
   "metadata": {},
   "source": [
    "#### 5.2 Доверительный интервал для разности двух незавимых долей"
   ]
  },
  {
   "cell_type": "markdown",
   "metadata": {},
   "source": [
    "Построим 95% доверительный интервал для разности долей частных школ среди мальчиков и девочек."
   ]
  },
  {
   "cell_type": "code",
   "execution_count": 30,
   "metadata": {
    "collapsed": false
   },
   "outputs": [
    {
     "data": {
      "text/plain": [
       "(-0.11304660507498858, 0.090463683409498105)"
      ]
     },
     "execution_count": 30,
     "metadata": {},
     "output_type": "execute_result"
    }
   ],
   "source": [
    "mrstat.proportions_confint_diff_ind(*mrstat.get_props_and_lens(table))"
   ]
  },
  {
   "cell_type": "markdown",
   "metadata": {},
   "source": [
    "Доверительный интервал получился очень широким, а так же он содержит 0. На основе этого тоже можно сделать вывод, что доли учащихся в частных школах среди мальчиков и девочек значимо не отличаются."
   ]
  },
  {
   "cell_type": "markdown",
   "metadata": {},
   "source": [
    "Обратите внимание, что в mrstat есть несколько похожих функций для проверки гипотез о доле и построения доверительных интрервалов:\n",
    "\n",
    "    mrstat.proportions_confint_diff_ind(p1,n1,p2,n2) - берет на вход доли и размеры выборок\n",
    "    mrstat.proportions_confint_diff_ind_samples(sample1,sample2) - берет на вход две выборки из 0 и 1\n",
    "    mrstat.proportions_confint_diff_ind_table(contigency_table) - берет на вход таблицу сопряженности"
   ]
  },
  {
   "cell_type": "markdown",
   "metadata": {},
   "source": [
    "#### 5.3 Тест Хи-квадрат"
   ]
  },
  {
   "cell_type": "markdown",
   "metadata": {},
   "source": [
    "С помощью теста хи-квадрат можно проверить имеются ли статистически значимые различия между долей частных школ среди мальчиков и девочек. Для этого сначала нужно посчитать таблицу сопряженности."
   ]
  },
  {
   "cell_type": "code",
   "execution_count": 31,
   "metadata": {
    "collapsed": false
   },
   "outputs": [
    {
     "data": {
      "text/html": [
       "<div>\n",
       "<table border=\"1\" class=\"dataframe\">\n",
       "  <thead>\n",
       "    <tr style=\"text-align: right;\">\n",
       "      <th>female</th>\n",
       "      <th>0</th>\n",
       "      <th>1</th>\n",
       "    </tr>\n",
       "    <tr>\n",
       "      <th>schtyp</th>\n",
       "      <th></th>\n",
       "      <th></th>\n",
       "    </tr>\n",
       "  </thead>\n",
       "  <tbody>\n",
       "    <tr>\n",
       "      <th>1</th>\n",
       "      <td>77</td>\n",
       "      <td>91</td>\n",
       "    </tr>\n",
       "    <tr>\n",
       "      <th>2</th>\n",
       "      <td>14</td>\n",
       "      <td>18</td>\n",
       "    </tr>\n",
       "  </tbody>\n",
       "</table>\n",
       "</div>"
      ],
      "text/plain": [
       "female   0   1\n",
       "schtyp        \n",
       "1       77  91\n",
       "2       14  18"
      ]
     },
     "execution_count": 31,
     "metadata": {},
     "output_type": "execute_result"
    }
   ],
   "source": [
    "table"
   ]
  },
  {
   "cell_type": "code",
   "execution_count": 32,
   "metadata": {
    "collapsed": false
   },
   "outputs": [
    {
     "data": {
      "text/plain": [
       "(0.04704775346977183, 0.82828242684033948, 1L, array([[ 76.44,  91.56],\n",
       "        [ 14.56,  17.44]]))"
      ]
     },
     "execution_count": 32,
     "metadata": {},
     "output_type": "execute_result"
    }
   ],
   "source": [
    "mrstat.chi2_contingency(table,correction=False)"
   ]
  },
  {
   "cell_type": "markdown",
   "metadata": {},
   "source": [
    "P-value получился равным 0.83, это больше чем 0.05 следовательно гипотеза о том, что доли различаются, отвергается. Обратите внимание, что p-value получилось абсолютно такой же, как в тесте для двух независимых долей в пункте 5.1. Это происходит из-за того, что в основе теста для двух долей лежит нормальное распределение, а хи-квадрат - это распределение, которое является производной от нормального распределениея, и для данного случая они совпадают."
   ]
  },
  {
   "cell_type": "markdown",
   "metadata": {},
   "source": [
    "#### 5.4 Точный тест Фишера"
   ]
  },
  {
   "cell_type": "markdown",
   "metadata": {},
   "source": [
    "Если в таблице сопряженности есть ячейки содержащие значения меньше 5, то хи-квадрат использовать нельзя. Но можно использовать точный тест Фишера. На вход он принимает ту же таблицу сопряженности."
   ]
  },
  {
   "cell_type": "code",
   "execution_count": 33,
   "metadata": {
    "collapsed": false
   },
   "outputs": [
    {
     "data": {
      "text/plain": [
       "(1.0879120879120878, 0.84917505847685981)"
      ]
     },
     "execution_count": 33,
     "metadata": {},
     "output_type": "execute_result"
    }
   ],
   "source": [
    "mrstat.fisher_exact(table)"
   ]
  },
  {
   "cell_type": "markdown",
   "metadata": {},
   "source": [
    "Да, кстати всё это примеры АБ тестинга)."
   ]
  },
  {
   "cell_type": "markdown",
   "metadata": {},
   "source": [
    "#### 5.5 Размер выборок для для двух пропорций"
   ]
  },
  {
   "cell_type": "markdown",
   "metadata": {},
   "source": [
    "При планировании аб тестирования требуется понимать, какого объема выборка потребуется. Для того, чтобы это сделать нужно знать следующие параметры:\n",
    "\n",
    "- базовый уровень показателя p1. т.е. это та цифра, котороую необходимо улучшить\n",
    "- желаемый уровень показателя, т.е цифра, при которой тестирование будет считаться успешным. Определяется экспертно.\n",
    "- достигаемый уровень значимости и мощность. Общепринятые стандарты это 0.05 и 0.8\n",
    "- пропорции контрольной и тестовой выборок, если необходимо.\n",
    "\n",
    "Рассмотрим на примере. Допустим есть какой-либо показатель доли в 10% и мы хотим его увеличить с помощью новой технологии. Увеличение будет считаться успеным, если показатель выростет на 20%. Так же мы не хотим делать большую контрольную группу, чтобы сразу получить выгоду от внедрения новой технологии - сделаем контрольную группу 20% от всего теста. Уровень значимости и мощность оставим стандартными. Вот что получится:"
   ]
  },
  {
   "cell_type": "code",
   "execution_count": 34,
   "metadata": {
    "collapsed": true
   },
   "outputs": [],
   "source": [
    "p1 = 0.1\n",
    "p2 = 0.1 * 1.2"
   ]
  },
  {
   "cell_type": "code",
   "execution_count": 35,
   "metadata": {
    "collapsed": false
   },
   "outputs": [
    {
     "data": {
      "text/plain": [
       "(2396.5, 9586.0)"
      ]
     },
     "execution_count": 35,
     "metadata": {},
     "output_type": "execute_result"
    }
   ],
   "source": [
    "mrstat.two_proportions_sample_size(p1,p2,frac=0.2)"
   ]
  },
  {
   "cell_type": "markdown",
   "metadata": {},
   "source": [
    "Получается, что для того чтобы считать тестирование состоявшимся необходимо накопить 2396.5 в контроле и 9586.0 в пилоте или 11982.5 для всего тестирования. Данные значения нужно округлять до целого, а еще лучше до круглых чисел в большую сторону."
   ]
  },
  {
   "cell_type": "markdown",
   "metadata": {},
   "source": [
    "### 6. Непараметрические критерии"
   ]
  },
  {
   "cell_type": "markdown",
   "metadata": {},
   "source": [
    "Непараметрические критерии следует использовать с крайне ненормальными и несимметричными распределениями."
   ]
  },
  {
   "cell_type": "markdown",
   "metadata": {},
   "source": [
    "#### 6.1 Критерий знаков"
   ]
  },
  {
   "cell_type": "markdown",
   "metadata": {},
   "source": [
    "Применяется для проверки гипотезы о медиане. Не предъявляет никаких требований к распределению. Проверим гипотезу о том, что медиана оценок по write равна 50."
   ]
  },
  {
   "cell_type": "code",
   "execution_count": 36,
   "metadata": {
    "collapsed": false
   },
   "outputs": [
    {
     "data": {
      "text/plain": [
       "54.0"
      ]
     },
     "execution_count": 36,
     "metadata": {},
     "output_type": "execute_result"
    }
   ],
   "source": [
    "np.median(hsb.write)"
   ]
  },
  {
   "cell_type": "code",
   "execution_count": 37,
   "metadata": {
    "collapsed": false
   },
   "outputs": [
    {
     "data": {
      "text/plain": [
       "(27.0, 0.00015185854094876164)"
      ]
     },
     "execution_count": 37,
     "metadata": {},
     "output_type": "execute_result"
    }
   ],
   "source": [
    "mrstat.sign_test(hsb.write,50)"
   ]
  },
  {
   "cell_type": "markdown",
   "metadata": {},
   "source": [
    "P-value маленький следовательно гипотеза о медиане равной 50 не принимается."
   ]
  },
  {
   "cell_type": "markdown",
   "metadata": {},
   "source": [
    "#### 6.2 Критерий знаковых рангов Вилкоксона"
   ]
  },
  {
   "cell_type": "markdown",
   "metadata": {},
   "source": [
    "Этот криетерий использует больше информации, чем просто критерий знаков. Проверим ту же гипотезу."
   ]
  },
  {
   "cell_type": "code",
   "execution_count": 38,
   "metadata": {
    "collapsed": false
   },
   "outputs": [
    {
     "data": {
      "text/plain": [
       "WilcoxonResult(statistic=6524.0, pvalue=3.6917631525880871e-05)"
      ]
     },
     "execution_count": 38,
     "metadata": {},
     "output_type": "execute_result"
    }
   ],
   "source": [
    "mrstat.wilcoxon(hsb.write.values-50)"
   ]
  },
  {
   "cell_type": "markdown",
   "metadata": {},
   "source": [
    "В данном случае гипотеза о медиане равной 50 отвергается с еще большей силой. Критерий знаков и критерий знаковых рангов Вилкоксона являются альтернативой для одновыборочного ти-теста, а критерий знаковых рангов может еще применяться провеки гипотезы о равенстве средних для двух зависимых выборок."
   ]
  },
  {
   "cell_type": "markdown",
   "metadata": {},
   "source": [
    "#### 6.3 Критерий Манна-Уитни"
   ]
  },
  {
   "cell_type": "markdown",
   "metadata": {},
   "source": [
    "Критерий Манна-Уитни является альтернативой ти-теста для двух независимых выборок и может применяться при любом типе распределения. Этот критерий проверяет гипотезу о том, что две выборки взяты из одной генеральной совокупности, в частности, насколько значения одной выборки больше чем в другой. Применим критерий Манна-Уитни к случаю с оценкой по тесту write для мальчиков и девочек."
   ]
  },
  {
   "cell_type": "code",
   "execution_count": 39,
   "metadata": {
    "collapsed": false
   },
   "outputs": [
    {
     "data": {
      "text/plain": [
       "MannwhitneyuResult(statistic=3606.0, pvalue=0.00043746993681806757)"
      ]
     },
     "execution_count": 39,
     "metadata": {},
     "output_type": "execute_result"
    }
   ],
   "source": [
    "mrstat.mannwhitneyu(w_boys,w_girls)"
   ]
  },
  {
   "cell_type": "markdown",
   "metadata": {},
   "source": [
    "P-value < 0.05 следовательно гипотеза о том, что две выборки пришли из одного распределения отвергается. Результаты критения Манна-Уитни можно применять на равне с обычным ти-тестом.\n",
    "\n",
    "Кстата, критерий Манна-Уитни является официальным \"сдаточным\" критерием для ряда АБ тестов в Yandex."
   ]
  },
  {
   "cell_type": "markdown",
   "metadata": {},
   "source": [
    "#### 6.4 Бутстреп"
   ]
  },
  {
   "cell_type": "markdown",
   "metadata": {},
   "source": [
    "С помощью бутстрепа можно проверять любой параметр вне зависимости от распределения выборки."
   ]
  },
  {
   "cell_type": "code",
   "execution_count": 40,
   "metadata": {
    "collapsed": false
   },
   "outputs": [
    {
     "name": "stdout",
     "output_type": "stream",
     "text": [
      "52.775\n",
      "54.0\n"
     ]
    }
   ],
   "source": [
    "print np.mean(hsb.write)\n",
    "print np.median(hsb.write)"
   ]
  },
  {
   "cell_type": "code",
   "execution_count": 41,
   "metadata": {
    "collapsed": false
   },
   "outputs": [
    {
     "name": "stdout",
     "output_type": "stream",
     "text": [
      "(p-value for mean = 51) =  0.004\n",
      "(p-value for median = 53) =  0.16\n"
     ]
    }
   ],
   "source": [
    "print '(p-value for mean = 51) = ', mrstat.bootstrap_test(hsb.write.values,51,np.mean)\n",
    "print '(p-value for median = 53) = ', mrstat.bootstrap_test(hsb.write.values,53,np.median)"
   ]
  },
  {
   "cell_type": "markdown",
   "metadata": {},
   "source": [
    "Гипотеза о среднем равном 51 отвергается (p-value < 0.05), гипотеза о медиане равной 53 принимается (p-value > 0.05)."
   ]
  },
  {
   "cell_type": "markdown",
   "metadata": {},
   "source": [
    "С помощью бутстрепа так же можно строить доверительные интервалы."
   ]
  },
  {
   "cell_type": "code",
   "execution_count": 42,
   "metadata": {
    "collapsed": false
   },
   "outputs": [
    {
     "name": "stdout",
     "output_type": "stream",
     "text": [
      "mean interval  [ 51.389875  54.105   ]\n",
      "median interval  [ 52.  57.]\n"
     ]
    }
   ],
   "source": [
    "print 'mean interval ', mrstat.bootstrap_conf_int(hsb.write.values,np.mean)\n",
    "print 'median interval ', mrstat.bootstrap_conf_int(hsb.write.values,np.median)"
   ]
  },
  {
   "cell_type": "markdown",
   "metadata": {},
   "source": [
    "А так же доверительный интревал для разницы двух параметров."
   ]
  },
  {
   "cell_type": "code",
   "execution_count": 43,
   "metadata": {
    "collapsed": false
   },
   "outputs": [
    {
     "name": "stdout",
     "output_type": "stream",
     "text": [
      "[-1.3     2.4405]\n",
      "[ 0.  7.]\n"
     ]
    }
   ],
   "source": [
    "print mrstat.bootstrap_diff_conf_int(hsb.write.values,hsb.read.values,np.mean)\n",
    "print mrstat.bootstrap_diff_conf_int(hsb.write.values,hsb.read.values,np.median)"
   ]
  },
  {
   "cell_type": "markdown",
   "metadata": {},
   "source": [
    "Мы видим, что разницы и для средних и для медиан между оценками по write и read содержат 0, следовательно нельзя утверждать, что между этими параметрами существует значимая разница."
   ]
  },
  {
   "cell_type": "markdown",
   "metadata": {},
   "source": [
    "Бутстреп можно использовать тогда, когда нельзя применить другие модели из-за различных ограничений, например, по размеру выборки."
   ]
  },
  {
   "cell_type": "markdown",
   "metadata": {},
   "source": [
    "### 7. Корреляция"
   ]
  },
  {
   "cell_type": "markdown",
   "metadata": {},
   "source": [
    "#### 7.1 Коэффициет корреляции Пирсона"
   ]
  },
  {
   "cell_type": "code",
   "execution_count": 44,
   "metadata": {
    "collapsed": false
   },
   "outputs": [
    {
     "data": {
      "text/plain": [
       "<matplotlib.axes._subplots.AxesSubplot at 0xdf58748>"
      ]
     },
     "execution_count": 44,
     "metadata": {},
     "output_type": "execute_result"
    },
    {
     "data": {
      "image/png": "[encoded data removed]",
      "text/plain": [
       "<matplotlib.figure.Figure at 0xc4d6cc0>"
      ]
     },
     "metadata": {},
     "output_type": "display_data"
    }
   ],
   "source": [
    "hsb.plot(kind='scatter',x='write',y='read')"
   ]
  },
  {
   "cell_type": "code",
   "execution_count": 45,
   "metadata": {
    "collapsed": false
   },
   "outputs": [
    {
     "data": {
      "text/plain": [
       "(0.59677647908804532, 1.1056411255416739e-20)"
      ]
     },
     "execution_count": 45,
     "metadata": {},
     "output_type": "execute_result"
    }
   ],
   "source": [
    "mrstat.pearsonr(hsb.write,hsb.read)"
   ]
  },
  {
   "cell_type": "markdown",
   "metadata": {},
   "source": [
    "Корреляция получилась равной 0.5968, а p-value для нулейвой гипотезы об отсутсвии корреляции < 0.05, следовательно можно заключить, что между этими переменными существует статистически значимая корреляция."
   ]
  },
  {
   "cell_type": "markdown",
   "metadata": {},
   "source": [
    "С помощью [этой игры](http://guessthecorrelation.com/) можно научиться определять корреляцию на глаз."
   ]
  },
  {
   "cell_type": "markdown",
   "metadata": {},
   "source": [
    "#### 7.2 Коэффициет корреляции Спирмена"
   ]
  },
  {
   "cell_type": "markdown",
   "metadata": {},
   "source": [
    "Корреляция Спирмена способна уловить нелинейную связь между переменными. Возьмем напремер x и посчитаем корреляцию Пирсона с его экспонентой."
   ]
  },
  {
   "cell_type": "code",
   "execution_count": 46,
   "metadata": {
    "collapsed": false
   },
   "outputs": [
    {
     "data": {
      "text/plain": [
       "(0.25080845773967969, 0.011412991126929171)"
      ]
     },
     "execution_count": 46,
     "metadata": {},
     "output_type": "execute_result"
    }
   ],
   "source": [
    "x = np.linspace(0,100,101)\n",
    "y = np.exp(x)\n",
    "mrstat.pearsonr(x,y)"
   ]
  },
  {
   "cell_type": "markdown",
   "metadata": {},
   "source": [
    "Коэффициент получился очень маленьким, но связь определенно есть - функция монотонно возрастает. Взглянем на график."
   ]
  },
  {
   "cell_type": "code",
   "execution_count": 47,
   "metadata": {
    "collapsed": false
   },
   "outputs": [
    {
     "data": {
      "text/plain": [
       "<matplotlib.collections.PathCollection at 0xc7c7c88>"
      ]
     },
     "execution_count": 47,
     "metadata": {},
     "output_type": "execute_result"
    },
    {
     "data": {
      "image/png": "[encoded data removed]",
      "text/plain": [
       "<matplotlib.figure.Figure at 0xc3597f0>"
      ]
     },
     "metadata": {},
     "output_type": "display_data"
    }
   ],
   "source": [
    "plt.scatter(x,y)"
   ]
  },
  {
   "cell_type": "markdown",
   "metadata": {},
   "source": [
    "Теперь посчитаем корреляцию Спирмена."
   ]
  },
  {
   "cell_type": "code",
   "execution_count": 48,
   "metadata": {
    "collapsed": false
   },
   "outputs": [
    {
     "data": {
      "text/plain": [
       "SpearmanrResult(correlation=0.99999999999999989, pvalue=0.0)"
      ]
     },
     "execution_count": 48,
     "metadata": {},
     "output_type": "execute_result"
    }
   ],
   "source": [
    "mrstat.spearmanr(x,y)"
   ]
  },
  {
   "cell_type": "markdown",
   "metadata": {},
   "source": [
    "Коэффициент Спирмена равен 1! Когда корреляция Спирмена больше, чем корреляция Пирсона - это знак, что можно сделать нелинейное преобразование и взять например логарифм. Это позволит перейти к линейным отношениям, а статистика любит линейные отношения."
   ]
  },
  {
   "cell_type": "markdown",
   "metadata": {},
   "source": [
    "#### 7.3 Коэффициент Крамера"
   ]
  },
  {
   "cell_type": "markdown",
   "metadata": {},
   "source": [
    "Коэффициент Крамера позволяет оценить связь между двумя номинальными переменными. Он основан на статистике хи-квадрат. Посчитаем для связи между типом школы и полом ученика."
   ]
  },
  {
   "cell_type": "code",
   "execution_count": 49,
   "metadata": {
    "collapsed": false
   },
   "outputs": [
    {
     "data": {
      "text/html": [
       "<div>\n",
       "<table border=\"1\" class=\"dataframe\">\n",
       "  <thead>\n",
       "    <tr style=\"text-align: right;\">\n",
       "      <th>female</th>\n",
       "      <th>0</th>\n",
       "      <th>1</th>\n",
       "    </tr>\n",
       "    <tr>\n",
       "      <th>schtyp</th>\n",
       "      <th></th>\n",
       "      <th></th>\n",
       "    </tr>\n",
       "  </thead>\n",
       "  <tbody>\n",
       "    <tr>\n",
       "      <th>1</th>\n",
       "      <td>77</td>\n",
       "      <td>91</td>\n",
       "    </tr>\n",
       "    <tr>\n",
       "      <th>2</th>\n",
       "      <td>14</td>\n",
       "      <td>18</td>\n",
       "    </tr>\n",
       "  </tbody>\n",
       "</table>\n",
       "</div>"
      ],
      "text/plain": [
       "female   0   1\n",
       "schtyp        \n",
       "1       77  91\n",
       "2       14  18"
      ]
     },
     "execution_count": 49,
     "metadata": {},
     "output_type": "execute_result"
    }
   ],
   "source": [
    "table"
   ]
  },
  {
   "cell_type": "code",
   "execution_count": 50,
   "metadata": {
    "collapsed": false
   },
   "outputs": [
    {
     "data": {
      "text/plain": [
       "(0.01533749547184478, 0.82828242684033948)"
      ]
     },
     "execution_count": 50,
     "metadata": {},
     "output_type": "execute_result"
    }
   ],
   "source": [
    "mrstat.vcramer(table.values)"
   ]
  },
  {
   "cell_type": "markdown",
   "metadata": {},
   "source": [
    "Такое маленькое значение (0.01) говорит о том, что связи нет, а p-value не позволяет отвергнуть нулевую гипотезу о том, что пропорции не отличаются. Коэффициент Крамера принимает значения от 0 до 1, что делает его хорошо интерпретируемым."
   ]
  },
  {
   "cell_type": "markdown",
   "metadata": {},
   "source": [
    "### 8. Связанные выборки"
   ]
  },
  {
   "cell_type": "markdown",
   "metadata": {},
   "source": [
    "#### 8.1 Ти-тест для связанных выборок"
   ]
  },
  {
   "cell_type": "markdown",
   "metadata": {},
   "source": [
    "Тест для связанных выборок используется например при клинических испытаниях новых лекарств. Конкретный пример (взято из [курса](https://www.coursera.org/learn/stats-for-data-analysis/home/welcome)) : \n",
    "\n",
    "В рамках исследования эффективности препарата метилфенидат 24 пациента с синдромом дефицита внимания и гиперактивности в течение недели принимали либо метилфенидат, либо плацебо. В конце недели каждый пациент проходили тест на способность к подавлению импульсивных поведенческих реакций. На втором этапе плацебо и препарат менялись, и после недельного курса каждый испытуемые проходили второй тест.\n",
    "\n",
    "Необходимо оценить эффективность препарата."
   ]
  },
  {
   "cell_type": "code",
   "execution_count": 51,
   "metadata": {
    "collapsed": false
   },
   "outputs": [
    {
     "data": {
      "text/html": [
       "<div>\n",
       "<table border=\"1\" class=\"dataframe\">\n",
       "  <thead>\n",
       "    <tr style=\"text-align: right;\">\n",
       "      <th></th>\n",
       "      <th>Placebo</th>\n",
       "      <th>Methylphenidate</th>\n",
       "    </tr>\n",
       "  </thead>\n",
       "  <tbody>\n",
       "    <tr>\n",
       "      <th>0</th>\n",
       "      <td>57</td>\n",
       "      <td>62</td>\n",
       "    </tr>\n",
       "    <tr>\n",
       "      <th>1</th>\n",
       "      <td>27</td>\n",
       "      <td>49</td>\n",
       "    </tr>\n",
       "    <tr>\n",
       "      <th>2</th>\n",
       "      <td>32</td>\n",
       "      <td>30</td>\n",
       "    </tr>\n",
       "    <tr>\n",
       "      <th>3</th>\n",
       "      <td>31</td>\n",
       "      <td>34</td>\n",
       "    </tr>\n",
       "    <tr>\n",
       "      <th>4</th>\n",
       "      <td>34</td>\n",
       "      <td>38</td>\n",
       "    </tr>\n",
       "  </tbody>\n",
       "</table>\n",
       "</div>"
      ],
      "text/plain": [
       "   Placebo  Methylphenidate\n",
       "0       57               62\n",
       "1       27               49\n",
       "2       32               30\n",
       "3       31               34\n",
       "4       34               38"
      ]
     },
     "execution_count": 51,
     "metadata": {},
     "output_type": "execute_result"
    }
   ],
   "source": [
    "data = pd.read_csv('ADHD.txt', sep = ' ', header = 0)\n",
    "data.columns = ['Placebo', 'Methylphenidate']\n",
    "data.head()"
   ]
  },
  {
   "cell_type": "markdown",
   "metadata": {},
   "source": [
    "Эти выборки являются свзянными, т.к. каждая строчка содержит результаты одного и того же пациена с лекарством и без. Проверим, есть ли статистически значимый эффект от приема препарата."
   ]
  },
  {
   "cell_type": "code",
   "execution_count": 52,
   "metadata": {
    "collapsed": false
   },
   "outputs": [
    {
     "data": {
      "text/plain": [
       "Ttest_relResult(statistic=3.2223624451230406, pvalue=0.003771488176381471)"
      ]
     },
     "execution_count": 52,
     "metadata": {},
     "output_type": "execute_result"
    }
   ],
   "source": [
    "mrstat.ttest_rel(data.Methylphenidate,data.Placebo)"
   ]
  },
  {
   "cell_type": "markdown",
   "metadata": {},
   "source": [
    "Нулевая гипотеза в данном случае заключается в том, что средние не отличаются. P-value получилось < 0.05, а это значит, что нулевая гипотеза отвергается и можно заключить, что средние отличаются."
   ]
  },
  {
   "cell_type": "markdown",
   "metadata": {},
   "source": [
    "#### 8.2 Тест для разности двух долей - связанные выборки"
   ]
  },
  {
   "cell_type": "markdown",
   "metadata": {},
   "source": [
    "Сгенерируем некоторые выборки и представим, что они связанные. Здесь та же история, что и с ти-тестом - представим, что это доля до и после какого-либо мероприятия. Нужно оценить повлияло ли мероприятие на долю."
   ]
  },
  {
   "cell_type": "code",
   "execution_count": 53,
   "metadata": {
    "collapsed": false
   },
   "outputs": [],
   "source": [
    "a = [0]*150 + [1]*50\n",
    "b = [0]*170 + [1]*30"
   ]
  },
  {
   "cell_type": "code",
   "execution_count": 54,
   "metadata": {
    "collapsed": false
   },
   "outputs": [
    {
     "name": "stdout",
     "output_type": "stream",
     "text": [
      "0.25\n",
      "0.15\n"
     ]
    }
   ],
   "source": [
    "print np.mean(a)\n",
    "print np.mean(b)"
   ]
  },
  {
   "cell_type": "code",
   "execution_count": 55,
   "metadata": {
    "collapsed": false
   },
   "outputs": [
    {
     "data": {
      "text/plain": [
       "2.4284674728924927e-06"
      ]
     },
     "execution_count": 55,
     "metadata": {},
     "output_type": "execute_result"
    }
   ],
   "source": [
    "mrstat.proportions_diff_rel(a,b)"
   ]
  },
  {
   "cell_type": "markdown",
   "metadata": {},
   "source": [
    "P-value < 0.05 следовательно доли значимо различаются."
   ]
  },
  {
   "cell_type": "markdown",
   "metadata": {},
   "source": [
    "#### 8.3 Доверительный интервал для разности долей "
   ]
  },
  {
   "cell_type": "code",
   "execution_count": 56,
   "metadata": {
    "collapsed": false
   },
   "outputs": [
    {
     "data": {
      "text/plain": [
       "(0.058422885269509665, 0.14157711473049034)"
      ]
     },
     "execution_count": 56,
     "metadata": {},
     "output_type": "execute_result"
    }
   ],
   "source": [
    "mrstat.proportions_confint_diff_rel(a,b)"
   ]
  },
  {
   "cell_type": "markdown",
   "metadata": {},
   "source": [
    "Доверительный интервал не содержит 0 следовательно доли различаются."
   ]
  },
  {
   "cell_type": "markdown",
   "metadata": {
    "collapsed": true
   },
   "source": [
    "#### 8.4 Критерий знаков для связанных выборок"
   ]
  },
  {
   "cell_type": "code",
   "execution_count": 57,
   "metadata": {
    "collapsed": false
   },
   "outputs": [
    {
     "data": {
      "text/plain": [
       "(5.0, 0.063914656639099121)"
      ]
     },
     "execution_count": 57,
     "metadata": {},
     "output_type": "execute_result"
    }
   ],
   "source": [
    "mrstat.sign_test(data.Methylphenidate - data.Placebo)"
   ]
  },
  {
   "cell_type": "markdown",
   "metadata": {},
   "source": [
    "P-value > 0.05 следовательно нельзя заявлять, что медианы выборок отличаются."
   ]
  },
  {
   "cell_type": "markdown",
   "metadata": {},
   "source": [
    "#### 8.5 Критерий знаковых рангов Вилкоксона для связанных выборок"
   ]
  },
  {
   "cell_type": "markdown",
   "metadata": {},
   "source": [
    "Нулевая гипотеза: две связанные выборки взяты из одной генеральной совокупности, т.е. не отличаются."
   ]
  },
  {
   "cell_type": "code",
   "execution_count": 58,
   "metadata": {
    "collapsed": false
   },
   "outputs": [
    {
     "data": {
      "text/plain": [
       "WilcoxonResult(statistic=48.5, pvalue=0.0037070137534509031)"
      ]
     },
     "execution_count": 58,
     "metadata": {},
     "output_type": "execute_result"
    }
   ],
   "source": [
    "mrstat.wilcoxon(data.Methylphenidate,data.Placebo)"
   ]
  },
  {
   "cell_type": "markdown",
   "metadata": {},
   "source": [
    "P-value < 0.05 следовательно нулевая гипотеза отвергается - можно заявлять, что выборки различаются."
   ]
  },
  {
   "cell_type": "markdown",
   "metadata": {},
   "source": [
    "### 9. Дисперсионный анализ"
   ]
  },
  {
   "cell_type": "markdown",
   "metadata": {},
   "source": [
    "#### 9.1 Однофакторная ANOVA"
   ]
  },
  {
   "cell_type": "markdown",
   "metadata": {},
   "source": [
    "Используется для проверки гипотезы о том, что средние для двух и более групп одной вещественной переменной различаются. Проверим различается ли среднее по тесту write для разных типов школьной программы."
   ]
  },
  {
   "cell_type": "code",
   "execution_count": 59,
   "metadata": {
    "collapsed": false
   },
   "outputs": [
    {
     "data": {
      "text/plain": [
       "F_onewayResult(statistic=21.274737826343454, pvalue=4.3101626235711319e-09)"
      ]
     },
     "execution_count": 59,
     "metadata": {},
     "output_type": "execute_result"
    }
   ],
   "source": [
    "stats.f_oneway(hsb[hsb['prog'] == 1]['write'],\n",
    "              hsb[hsb['prog'] == 2]['write'],\n",
    "              hsb[hsb['prog'] == 3]['write'])"
   ]
  },
  {
   "cell_type": "markdown",
   "metadata": {},
   "source": [
    "P-value < 0.05 следовательно нулевая гипотеза о равенстве средних не принимается. Посмотрим на эти средние."
   ]
  },
  {
   "cell_type": "code",
   "execution_count": 60,
   "metadata": {
    "collapsed": false
   },
   "outputs": [
    {
     "data": {
      "text/html": [
       "<div>\n",
       "<table border=\"1\" class=\"dataframe\">\n",
       "  <thead>\n",
       "    <tr style=\"text-align: right;\">\n",
       "      <th></th>\n",
       "      <th>mean</th>\n",
       "      <th>std</th>\n",
       "      <th>count</th>\n",
       "    </tr>\n",
       "    <tr>\n",
       "      <th>prog</th>\n",
       "      <th></th>\n",
       "      <th></th>\n",
       "      <th></th>\n",
       "    </tr>\n",
       "  </thead>\n",
       "  <tbody>\n",
       "    <tr>\n",
       "      <th>1</th>\n",
       "      <td>51.333333</td>\n",
       "      <td>9.397775</td>\n",
       "      <td>45</td>\n",
       "    </tr>\n",
       "    <tr>\n",
       "      <th>2</th>\n",
       "      <td>56.257143</td>\n",
       "      <td>7.943343</td>\n",
       "      <td>105</td>\n",
       "    </tr>\n",
       "    <tr>\n",
       "      <th>3</th>\n",
       "      <td>46.760000</td>\n",
       "      <td>9.318754</td>\n",
       "      <td>50</td>\n",
       "    </tr>\n",
       "  </tbody>\n",
       "</table>\n",
       "</div>"
      ],
      "text/plain": [
       "           mean       std  count\n",
       "prog                            \n",
       "1     51.333333  9.397775     45\n",
       "2     56.257143  7.943343    105\n",
       "3     46.760000  9.318754     50"
      ]
     },
     "execution_count": 60,
     "metadata": {},
     "output_type": "execute_result"
    }
   ],
   "source": [
    "hsb.groupby('prog')['write'].agg(['mean','std','count'])"
   ]
  },
  {
   "cell_type": "markdown",
   "metadata": {},
   "source": [
    "Действительно - средние различается. И ANOVA подтверждает, что эти различия статистически значимые."
   ]
  },
  {
   "cell_type": "markdown",
   "metadata": {},
   "source": [
    "#### 9.2 Критерий Краскела-Уоллиса"
   ]
  },
  {
   "cell_type": "markdown",
   "metadata": {},
   "source": [
    "Это непараметрический аналог ANOVA. Применяется тогда, когда нельзя сказать, что данные в группах распределены нормально."
   ]
  },
  {
   "cell_type": "code",
   "execution_count": 61,
   "metadata": {
    "collapsed": false
   },
   "outputs": [
    {
     "data": {
      "text/plain": [
       "KruskalResult(statistic=34.045178212149644, pvalue=4.0474685563408278e-08)"
      ]
     },
     "execution_count": 61,
     "metadata": {},
     "output_type": "execute_result"
    }
   ],
   "source": [
    "stats.kruskal(hsb[hsb['prog'] == 1]['write'],\n",
    "              hsb[hsb['prog'] == 2]['write'],\n",
    "              hsb[hsb['prog'] == 3]['write'])"
   ]
  },
  {
   "cell_type": "markdown",
   "metadata": {},
   "source": [
    "Видим, что p-value практически такой же, как у ANOVA."
   ]
  },
  {
   "cell_type": "markdown",
   "metadata": {},
   "source": [
    "#### 9.3 Двухфакторная ANOVA"
   ]
  },
  {
   "cell_type": "markdown",
   "metadata": {},
   "source": [
    "Применяется, когда нужно понять влияют ли на вещественную переменную две категориальные переменные. Допустим хочеться понять, зависят ли оценки по тесту write  от пола и социально экономического статуса учеников."
   ]
  },
  {
   "cell_type": "code",
   "execution_count": 62,
   "metadata": {
    "collapsed": true
   },
   "outputs": [],
   "source": [
    "from mrstat import ols\n",
    "from mrstat import anova_lm"
   ]
  },
  {
   "cell_type": "code",
   "execution_count": 63,
   "metadata": {
    "collapsed": false
   },
   "outputs": [],
   "source": [
    "data = hsb[['write','female','ses']]"
   ]
  },
  {
   "cell_type": "code",
   "execution_count": 64,
   "metadata": {
    "collapsed": false
   },
   "outputs": [
    {
     "name": "stderr",
     "output_type": "stream",
     "text": [
      "C:\\Anaconda2\\lib\\site-packages\\scipy\\stats\\_distn_infrastructure.py:875: RuntimeWarning: invalid value encountered in greater\n",
      "  return (self.a < x) & (x < self.b)\n",
      "C:\\Anaconda2\\lib\\site-packages\\scipy\\stats\\_distn_infrastructure.py:875: RuntimeWarning: invalid value encountered in less\n",
      "  return (self.a < x) & (x < self.b)\n",
      "C:\\Anaconda2\\lib\\site-packages\\scipy\\stats\\_distn_infrastructure.py:1814: RuntimeWarning: invalid value encountered in less_equal\n",
      "  cond2 = cond0 & (x <= self.a)\n"
     ]
    }
   ],
   "source": [
    "formula = 'write ~ C(female) + C(ses) + C(female):C(ses)'\n",
    "model = ols(formula, data).fit()\n",
    "aov_table = anova_lm(model, typ=1)"
   ]
  },
  {
   "cell_type": "code",
   "execution_count": 65,
   "metadata": {
    "collapsed": false
   },
   "outputs": [
    {
     "data": {
      "text/html": [
       "<div>\n",
       "<table border=\"1\" class=\"dataframe\">\n",
       "  <thead>\n",
       "    <tr style=\"text-align: right;\">\n",
       "      <th></th>\n",
       "      <th>df</th>\n",
       "      <th>sum_sq</th>\n",
       "      <th>mean_sq</th>\n",
       "      <th>F</th>\n",
       "      <th>PR(&gt;F)</th>\n",
       "    </tr>\n",
       "  </thead>\n",
       "  <tbody>\n",
       "    <tr>\n",
       "      <th>C(female)</th>\n",
       "      <td>1.0</td>\n",
       "      <td>1176.213845</td>\n",
       "      <td>1176.213845</td>\n",
       "      <td>14.626683</td>\n",
       "      <td>0.000177</td>\n",
       "    </tr>\n",
       "    <tr>\n",
       "      <th>C(ses)</th>\n",
       "      <td>2.0</td>\n",
       "      <td>1080.599437</td>\n",
       "      <td>540.299718</td>\n",
       "      <td>6.718840</td>\n",
       "      <td>0.001509</td>\n",
       "    </tr>\n",
       "    <tr>\n",
       "      <th>C(female):C(ses)</th>\n",
       "      <td>2.0</td>\n",
       "      <td>21.430904</td>\n",
       "      <td>10.715452</td>\n",
       "      <td>0.133251</td>\n",
       "      <td>0.875326</td>\n",
       "    </tr>\n",
       "    <tr>\n",
       "      <th>Residual</th>\n",
       "      <td>194.0</td>\n",
       "      <td>15600.630814</td>\n",
       "      <td>80.415623</td>\n",
       "      <td>NaN</td>\n",
       "      <td>NaN</td>\n",
       "    </tr>\n",
       "  </tbody>\n",
       "</table>\n",
       "</div>"
      ],
      "text/plain": [
       "                     df        sum_sq      mean_sq          F    PR(>F)\n",
       "C(female)           1.0   1176.213845  1176.213845  14.626683  0.000177\n",
       "C(ses)              2.0   1080.599437   540.299718   6.718840  0.001509\n",
       "C(female):C(ses)    2.0     21.430904    10.715452   0.133251  0.875326\n",
       "Residual          194.0  15600.630814    80.415623        NaN       NaN"
      ]
     },
     "execution_count": 65,
     "metadata": {},
     "output_type": "execute_result"
    }
   ],
   "source": [
    "aov_table"
   ]
  },
  {
   "cell_type": "markdown",
   "metadata": {
    "collapsed": true
   },
   "source": [
    "По данной таблице можно сделать следующие выводы:\n",
    "- write зависит от female (p-value = 0.00017 < 0.005)\n",
    "- write завист от ses (p-value = 0.001509 < 0.005)\n",
    "- write не зависит от взаимодейстивий female и ses (p-value = 0.875326 > 0.05)"
   ]
  },
  {
   "cell_type": "markdown",
   "metadata": {},
   "source": [
    "Спасибо за внимание! )"
   ]
  }
 ],
 "metadata": {
  "anaconda-cloud": {},
  "kernelspec": {
   "display_name": "Python 2",
   "language": "python",
   "name": "python2"
  },
  "language_info": {
   "codemirror_mode": {
    "name": "ipython",
    "version": 2
   },
   "file_extension": ".py",
   "mimetype": "text/x-python",
   "name": "python",
   "nbconvert_exporter": "python",
   "pygments_lexer": "ipython2",
   "version": "2.7.13"
  }
 },
 "nbformat": 4,
 "nbformat_minor": 0
}
